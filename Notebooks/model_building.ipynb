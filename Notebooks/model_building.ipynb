{
 "cells": [
  {
   "cell_type": "code",
   "execution_count": 2,
   "id": "62ca7b9a-63b8-4bfe-a5d3-1e42c47e8f3a",
   "metadata": {},
   "outputs": [],
   "source": [
    "import numpy as np \n",
    "import pandas as pd \n",
    "import matplotlib.pyplot as plt"
   ]
  },
  {
   "cell_type": "code",
   "execution_count": 3,
   "id": "5258ba74-a31b-433f-9d60-4a9488893688",
   "metadata": {},
   "outputs": [],
   "source": [
    "data = pd.read_csv('../Artifacts/reddit comments.csv')"
   ]
  },
  {
   "cell_type": "code",
   "execution_count": 4,
   "id": "af85f870-41fe-43db-9959-4a830ce029c5",
   "metadata": {},
   "outputs": [
    {
     "data": {
      "text/html": [
       "<div>\n",
       "<style scoped>\n",
       "    .dataframe tbody tr th:only-of-type {\n",
       "        vertical-align: middle;\n",
       "    }\n",
       "\n",
       "    .dataframe tbody tr th {\n",
       "        vertical-align: top;\n",
       "    }\n",
       "\n",
       "    .dataframe thead th {\n",
       "        text-align: right;\n",
       "    }\n",
       "</style>\n",
       "<table border=\"1\" class=\"dataframe\">\n",
       "  <thead>\n",
       "    <tr style=\"text-align: right;\">\n",
       "      <th></th>\n",
       "      <th>comment_id</th>\n",
       "      <th>self_text</th>\n",
       "      <th>label</th>\n",
       "    </tr>\n",
       "  </thead>\n",
       "  <tbody>\n",
       "    <tr>\n",
       "      <th>0</th>\n",
       "      <td>k70vrzb</td>\n",
       "      <td>Lol what kind of busted translator device you ...</td>\n",
       "      <td>0.0</td>\n",
       "    </tr>\n",
       "    <tr>\n",
       "      <th>1</th>\n",
       "      <td>k70vk4r</td>\n",
       "      <td>Translation:\\n\\nAmen. Kill jews and continue g...</td>\n",
       "      <td>0.0</td>\n",
       "    </tr>\n",
       "    <tr>\n",
       "      <th>2</th>\n",
       "      <td>k70vhew</td>\n",
       "      <td>Friendly fact reminder: Israel has been steali...</td>\n",
       "      <td>0.0</td>\n",
       "    </tr>\n",
       "    <tr>\n",
       "      <th>3</th>\n",
       "      <td>k70ve4h</td>\n",
       "      <td>Well, i would never support Hamas, but there a...</td>\n",
       "      <td>0.0</td>\n",
       "    </tr>\n",
       "    <tr>\n",
       "      <th>4</th>\n",
       "      <td>k70vaxh</td>\n",
       "      <td>There is absolutely evidence of Hamas taking C...</td>\n",
       "      <td>1.0</td>\n",
       "    </tr>\n",
       "  </tbody>\n",
       "</table>\n",
       "</div>"
      ],
      "text/plain": [
       "  comment_id                                          self_text  label\n",
       "0    k70vrzb  Lol what kind of busted translator device you ...    0.0\n",
       "1    k70vk4r  Translation:\\n\\nAmen. Kill jews and continue g...    0.0\n",
       "2    k70vhew  Friendly fact reminder: Israel has been steali...    0.0\n",
       "3    k70ve4h  Well, i would never support Hamas, but there a...    0.0\n",
       "4    k70vaxh  There is absolutely evidence of Hamas taking C...    1.0"
      ]
     },
     "execution_count": 4,
     "metadata": {},
     "output_type": "execute_result"
    }
   ],
   "source": [
    "data.head()"
   ]
  },
  {
   "cell_type": "markdown",
   "id": "0122b53f-a104-459a-91fa-c271f8fb2cdc",
   "metadata": {},
   "source": [
    "## Data preproccesing"
   ]
  },
  {
   "cell_type": "code",
   "execution_count": 5,
   "id": "e55c4c62-cc1f-4497-a21f-8505b8c730b8",
   "metadata": {},
   "outputs": [
    {
     "data": {
      "text/plain": [
       "(10001, 3)"
      ]
     },
     "execution_count": 5,
     "metadata": {},
     "output_type": "execute_result"
    }
   ],
   "source": [
    "data.shape"
   ]
  },
  {
   "cell_type": "code",
   "execution_count": 6,
   "id": "fd6166f6-eb87-4d59-83ac-01f5b882ab59",
   "metadata": {},
   "outputs": [
    {
     "data": {
      "text/plain": [
       "np.int64(0)"
      ]
     },
     "execution_count": 6,
     "metadata": {},
     "output_type": "execute_result"
    }
   ],
   "source": [
    "data.duplicated().sum()"
   ]
  },
  {
   "cell_type": "code",
   "execution_count": 7,
   "id": "570e668d-68b7-4157-b6f4-c3fe70ded594",
   "metadata": {},
   "outputs": [
    {
     "data": {
      "text/plain": [
       "comment_id    0\n",
       "self_text     0\n",
       "label         2\n",
       "dtype: int64"
      ]
     },
     "execution_count": 7,
     "metadata": {},
     "output_type": "execute_result"
    }
   ],
   "source": [
    "data.isnull().sum()"
   ]
  },
  {
   "cell_type": "markdown",
   "id": "2e31b4bb-edc7-405a-92c9-e948aad0fd4a",
   "metadata": {},
   "source": [
    "### Text Preprocess "
   ]
  },
  {
   "cell_type": "code",
   "execution_count": 8,
   "id": "516a15d2-a51e-4daa-a446-ac8aa0176715",
   "metadata": {},
   "outputs": [],
   "source": [
    "import re\n",
    "import string"
   ]
  },
  {
   "cell_type": "markdown",
   "id": "41f42282-3f8a-4eff-a454-85745643a669",
   "metadata": {},
   "source": [
    "#### Convert uppercase into lowercase"
   ]
  },
  {
   "cell_type": "code",
   "execution_count": 9,
   "id": "3ca03e2e-fe21-4afa-be4d-cd39b4faa312",
   "metadata": {},
   "outputs": [],
   "source": [
    "data[\"self_text\"] = data[\"self_text\"].apply(lambda x: \" \".join(x.lower() for x in x.split()))"
   ]
  },
  {
   "cell_type": "code",
   "execution_count": 10,
   "id": "6debe3e2-0f33-4784-b788-3ea2893e007e",
   "metadata": {},
   "outputs": [
    {
     "data": {
      "text/plain": [
       "0    lol what kind of busted translator device you ...\n",
       "1    translation: amen. kill jews and continue gaza...\n",
       "2    friendly fact reminder: israel has been steali...\n",
       "3    well, i would never support hamas, but there a...\n",
       "4    there is absolutely evidence of hamas taking c...\n",
       "Name: self_text, dtype: object"
      ]
     },
     "execution_count": 10,
     "metadata": {},
     "output_type": "execute_result"
    }
   ],
   "source": [
    "data[\"self_text\"].head(5)"
   ]
  },
  {
   "cell_type": "markdown",
   "id": "8968e6cb-2996-4565-8bdd-17c328a95bb1",
   "metadata": {},
   "source": [
    "#### Remove links"
   ]
  },
  {
   "cell_type": "code",
   "execution_count": 11,
   "id": "9cb68060-e3b0-44d3-afc8-c7b6695a5e22",
   "metadata": {},
   "outputs": [],
   "source": [
    "data[\"self_text\"] = data['self_text'].apply(lambda x: \" \".join(re.sub(r'^https?:\\/\\/.*[\\r\\n]*', '', x, flags=re.MULTILINE) for x in x.split()))"
   ]
  },
  {
   "cell_type": "markdown",
   "id": "a0bc5264-d05b-4be6-ba01-7519a685e0a9",
   "metadata": {},
   "source": [
    "#### Remove punctuation "
   ]
  },
  {
   "cell_type": "code",
   "execution_count": 12,
   "id": "05d7b59a-90e3-4bc2-ac5e-1f52420ba0e5",
   "metadata": {},
   "outputs": [
    {
     "data": {
      "text/plain": [
       "'!\"#$%&\\'()*+,-./:;<=>?@[\\\\]^_`{|}~'"
      ]
     },
     "execution_count": 12,
     "metadata": {},
     "output_type": "execute_result"
    }
   ],
   "source": [
    "string.punctuation"
   ]
  },
  {
   "cell_type": "code",
   "execution_count": 13,
   "id": "6be41e36-82b7-4c38-a521-0c0af1522f69",
   "metadata": {},
   "outputs": [],
   "source": [
    "def remove_punctuations(text):\n",
    "    for punctuation in string.punctuation:\n",
    "        text = text.replace(punctuation, '')\n",
    "    return text\n",
    "\n",
    "data[\"self_text\"] = data[\"self_text\"].apply(remove_punctuations)"
   ]
  },
  {
   "cell_type": "code",
   "execution_count": 14,
   "id": "cc17f3f6-71fc-401e-b65b-a668c1fa0607",
   "metadata": {},
   "outputs": [
    {
     "data": {
      "text/plain": [
       "0    lol what kind of busted translator device you ...\n",
       "1    translation amen kill jews and continue gazan ...\n",
       "2    friendly fact reminder israel has been stealin...\n",
       "3    well i would never support hamas but there act...\n",
       "4    there is absolutely evidence of hamas taking c...\n",
       "5    do you have the avtual link to the new york ti...\n",
       "6    i didnt deny anything you said i said israel d...\n",
       "7    gtyes exactly hamas attacked not the 1 million...\n",
       "8    firstly even in the best scenario you are conf...\n",
       "9    oh i guess since hamas is putting the children...\n",
       "Name: self_text, dtype: object"
      ]
     },
     "execution_count": 14,
     "metadata": {},
     "output_type": "execute_result"
    }
   ],
   "source": [
    "data[\"self_text\"].head(10)"
   ]
  },
  {
   "cell_type": "markdown",
   "id": "1322c92b-e63e-44d4-ab27-2461aa58684a",
   "metadata": {},
   "source": [
    "#### Remove numbers"
   ]
  },
  {
   "cell_type": "code",
   "execution_count": 15,
   "id": "1bfb2ae9-72c9-4506-a55b-03310306d794",
   "metadata": {},
   "outputs": [],
   "source": [
    "data[\"self_text\"] = data['self_text'].str.replace('\\d+', '', regex=True)"
   ]
  },
  {
   "cell_type": "markdown",
   "id": "6c2cbaec-fb3d-4b39-bc7a-e91219d363db",
   "metadata": {},
   "source": [
    "#### Remove stop words"
   ]
  },
  {
   "cell_type": "code",
   "execution_count": 16,
   "id": "80861f95-07e7-41c8-8e02-7feec3de4355",
   "metadata": {},
   "outputs": [
    {
     "name": "stdout",
     "output_type": "stream",
     "text": [
      "Collecting nltkNote: you may need to restart the kernel to use updated packages.\n",
      "\n",
      "  Using cached nltk-3.9.1-py3-none-any.whl.metadata (2.9 kB)\n",
      "Collecting click (from nltk)\n",
      "  Using cached click-8.1.8-py3-none-any.whl.metadata (2.3 kB)\n",
      "Collecting joblib (from nltk)\n",
      "  Using cached joblib-1.4.2-py3-none-any.whl.metadata (5.4 kB)\n",
      "Collecting regex>=2021.8.3 (from nltk)\n",
      "  Using cached regex-2024.11.6-cp311-cp311-win_amd64.whl.metadata (41 kB)\n",
      "Collecting tqdm (from nltk)\n",
      "  Using cached tqdm-4.67.1-py3-none-any.whl.metadata (57 kB)\n",
      "Requirement already satisfied: colorama in f:\\projects\\4th yr\\colloab\\analysis-of-israel-palestine-war-comments\\env\\lib\\site-packages (from click->nltk) (0.4.6)\n",
      "Using cached nltk-3.9.1-py3-none-any.whl (1.5 MB)\n",
      "Using cached regex-2024.11.6-cp311-cp311-win_amd64.whl (274 kB)\n",
      "Using cached click-8.1.8-py3-none-any.whl (98 kB)\n",
      "Using cached joblib-1.4.2-py3-none-any.whl (301 kB)\n",
      "Using cached tqdm-4.67.1-py3-none-any.whl (78 kB)\n",
      "Installing collected packages: tqdm, regex, joblib, click, nltk\n",
      "Successfully installed click-8.1.8 joblib-1.4.2 nltk-3.9.1 regex-2024.11.6 tqdm-4.67.1\n"
     ]
    }
   ],
   "source": [
    "pip install nltk"
   ]
  },
  {
   "cell_type": "code",
   "execution_count": 17,
   "id": "1ba02cef-7aa2-44db-8f9b-562a646b5b78",
   "metadata": {},
   "outputs": [],
   "source": [
    "import nltk"
   ]
  },
  {
   "cell_type": "code",
   "execution_count": 18,
   "id": "7cb7fcde-24b5-4794-ab26-849e37767dad",
   "metadata": {},
   "outputs": [
    {
     "name": "stderr",
     "output_type": "stream",
     "text": [
      "[nltk_data] Downloading package stopwords to ../static/model...\n",
      "[nltk_data]   Unzipping corpora\\stopwords.zip.\n"
     ]
    },
    {
     "data": {
      "text/plain": [
       "True"
      ]
     },
     "execution_count": 18,
     "metadata": {},
     "output_type": "execute_result"
    }
   ],
   "source": [
    "nltk.download('stopwords', download_dir='../static/model')"
   ]
  },
  {
   "cell_type": "code",
   "execution_count": 19,
   "id": "db784cc5-d55d-4204-8170-1211544259d6",
   "metadata": {},
   "outputs": [],
   "source": [
    "with open('../static/model/corpora/stopwords/english', 'r') as file:\n",
    "    sw = file.read().splitlines()"
   ]
  },
  {
   "cell_type": "code",
   "execution_count": 20,
   "id": "48a3ddb1-c299-4bda-b82a-eea383246aa5",
   "metadata": {},
   "outputs": [
    {
     "data": {
      "text/plain": [
       "['i',\n",
       " 'me',\n",
       " 'my',\n",
       " 'myself',\n",
       " 'we',\n",
       " 'our',\n",
       " 'ours',\n",
       " 'ourselves',\n",
       " 'you',\n",
       " \"you're\",\n",
       " \"you've\",\n",
       " \"you'll\",\n",
       " \"you'd\",\n",
       " 'your',\n",
       " 'yours',\n",
       " 'yourself',\n",
       " 'yourselves',\n",
       " 'he',\n",
       " 'him',\n",
       " 'his',\n",
       " 'himself',\n",
       " 'she',\n",
       " \"she's\",\n",
       " 'her',\n",
       " 'hers',\n",
       " 'herself',\n",
       " 'it',\n",
       " \"it's\",\n",
       " 'its',\n",
       " 'itself',\n",
       " 'they',\n",
       " 'them',\n",
       " 'their',\n",
       " 'theirs',\n",
       " 'themselves',\n",
       " 'what',\n",
       " 'which',\n",
       " 'who',\n",
       " 'whom',\n",
       " 'this',\n",
       " 'that',\n",
       " \"that'll\",\n",
       " 'these',\n",
       " 'those',\n",
       " 'am',\n",
       " 'is',\n",
       " 'are',\n",
       " 'was',\n",
       " 'were',\n",
       " 'be',\n",
       " 'been',\n",
       " 'being',\n",
       " 'have',\n",
       " 'has',\n",
       " 'had',\n",
       " 'having',\n",
       " 'do',\n",
       " 'does',\n",
       " 'did',\n",
       " 'doing',\n",
       " 'a',\n",
       " 'an',\n",
       " 'the',\n",
       " 'and',\n",
       " 'but',\n",
       " 'if',\n",
       " 'or',\n",
       " 'because',\n",
       " 'as',\n",
       " 'until',\n",
       " 'while',\n",
       " 'of',\n",
       " 'at',\n",
       " 'by',\n",
       " 'for',\n",
       " 'with',\n",
       " 'about',\n",
       " 'against',\n",
       " 'between',\n",
       " 'into',\n",
       " 'through',\n",
       " 'during',\n",
       " 'before',\n",
       " 'after',\n",
       " 'above',\n",
       " 'below',\n",
       " 'to',\n",
       " 'from',\n",
       " 'up',\n",
       " 'down',\n",
       " 'in',\n",
       " 'out',\n",
       " 'on',\n",
       " 'off',\n",
       " 'over',\n",
       " 'under',\n",
       " 'again',\n",
       " 'further',\n",
       " 'then',\n",
       " 'once',\n",
       " 'here',\n",
       " 'there',\n",
       " 'when',\n",
       " 'where',\n",
       " 'why',\n",
       " 'how',\n",
       " 'all',\n",
       " 'any',\n",
       " 'both',\n",
       " 'each',\n",
       " 'few',\n",
       " 'more',\n",
       " 'most',\n",
       " 'other',\n",
       " 'some',\n",
       " 'such',\n",
       " 'no',\n",
       " 'nor',\n",
       " 'not',\n",
       " 'only',\n",
       " 'own',\n",
       " 'same',\n",
       " 'so',\n",
       " 'than',\n",
       " 'too',\n",
       " 'very',\n",
       " 's',\n",
       " 't',\n",
       " 'can',\n",
       " 'will',\n",
       " 'just',\n",
       " 'don',\n",
       " \"don't\",\n",
       " 'should',\n",
       " \"should've\",\n",
       " 'now',\n",
       " 'd',\n",
       " 'll',\n",
       " 'm',\n",
       " 'o',\n",
       " 're',\n",
       " 've',\n",
       " 'y',\n",
       " 'ain',\n",
       " 'aren',\n",
       " \"aren't\",\n",
       " 'couldn',\n",
       " \"couldn't\",\n",
       " 'didn',\n",
       " \"didn't\",\n",
       " 'doesn',\n",
       " \"doesn't\",\n",
       " 'hadn',\n",
       " \"hadn't\",\n",
       " 'hasn',\n",
       " \"hasn't\",\n",
       " 'haven',\n",
       " \"haven't\",\n",
       " 'isn',\n",
       " \"isn't\",\n",
       " 'ma',\n",
       " 'mightn',\n",
       " \"mightn't\",\n",
       " 'mustn',\n",
       " \"mustn't\",\n",
       " 'needn',\n",
       " \"needn't\",\n",
       " 'shan',\n",
       " \"shan't\",\n",
       " 'shouldn',\n",
       " \"shouldn't\",\n",
       " 'wasn',\n",
       " \"wasn't\",\n",
       " 'weren',\n",
       " \"weren't\",\n",
       " 'won',\n",
       " \"won't\",\n",
       " 'wouldn',\n",
       " \"wouldn't\"]"
      ]
     },
     "execution_count": 20,
     "metadata": {},
     "output_type": "execute_result"
    }
   ],
   "source": [
    "sw"
   ]
  },
  {
   "cell_type": "code",
   "execution_count": 21,
   "id": "f6a25eac-8d43-4d20-b70c-e93409e36021",
   "metadata": {},
   "outputs": [],
   "source": [
    "data[\"self_text\"] = data[\"self_text\"].apply(lambda x: \" \".join(x for x in x.split() if x not in sw))"
   ]
  },
  {
   "cell_type": "code",
   "execution_count": 22,
   "id": "f77dfe69-0750-44e0-b817-f0922103cee8",
   "metadata": {},
   "outputs": [
    {
     "data": {
      "text/plain": [
       "0    lol kind busted translator device got speak ha...\n",
       "1    translation amen kill jews continue gazan oppr...\n",
       "2    friendly fact reminder israel stealing palesti...\n",
       "3    well would never support hamas actions israel ...\n",
       "4    absolutely evidence hamas taking captagon drug...\n",
       "Name: self_text, dtype: object"
      ]
     },
     "execution_count": 22,
     "metadata": {},
     "output_type": "execute_result"
    }
   ],
   "source": [
    "data[\"self_text\"].head()"
   ]
  },
  {
   "cell_type": "markdown",
   "id": "3c79da9c-558b-4c93-b456-1e0ddbf66bd1",
   "metadata": {},
   "source": [
    "## Stemming"
   ]
  },
  {
   "cell_type": "code",
   "execution_count": 23,
   "id": "3a049c39-96af-4431-853d-9fdb32343b11",
   "metadata": {},
   "outputs": [],
   "source": [
    "from nltk.stem import PorterStemmer\n",
    "ps = PorterStemmer()"
   ]
  },
  {
   "cell_type": "code",
   "execution_count": 24,
   "id": "a36810f0-931f-46f3-a443-73c8a1e1ee15",
   "metadata": {},
   "outputs": [],
   "source": [
    "data[\"self_text\"] = data[\"self_text\"].apply(lambda x: \" \".join(ps.stem(x) for x in x.split()))"
   ]
  },
  {
   "cell_type": "code",
   "execution_count": 25,
   "id": "2806e54f-ff54-4e01-bd61-0eac53b55d2c",
   "metadata": {},
   "outputs": [
    {
     "data": {
      "text/plain": [
       "0       lol kind bust translat devic got speak hasbara\n",
       "1         translat amen kill jew continu gazan oppress\n",
       "2    friendli fact remind israel steal palestin lan...\n",
       "3    well would never support hama action israel co...\n",
       "4    absolut evid hama take captagon drug similar p...\n",
       "Name: self_text, dtype: object"
      ]
     },
     "execution_count": 25,
     "metadata": {},
     "output_type": "execute_result"
    }
   ],
   "source": [
    "data[\"self_text\"].head()"
   ]
  },
  {
   "cell_type": "code",
   "execution_count": null,
   "id": "87d1c6a8-1bb6-4484-8948-aa77fb14ebd2",
   "metadata": {},
   "outputs": [],
   "source": []
  }
 ],
 "metadata": {
  "kernelspec": {
   "display_name": "Python 3 (ipykernel)",
   "language": "python",
   "name": "python3"
  },
  "language_info": {
   "codemirror_mode": {
    "name": "ipython",
    "version": 3
   },
   "file_extension": ".py",
   "mimetype": "text/x-python",
   "name": "python",
   "nbconvert_exporter": "python",
   "pygments_lexer": "ipython3",
   "version": "3.11.1"
  }
 },
 "nbformat": 4,
 "nbformat_minor": 5
}
